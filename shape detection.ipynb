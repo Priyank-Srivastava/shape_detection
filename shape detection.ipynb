{
 "cells": [
  {
   "cell_type": "code",
   "execution_count": 65,
   "metadata": {},
   "outputs": [],
   "source": [
    "import cv2\n",
    "import numpy as np\n",
    "def main():\n",
    "    for i in range (1,6):\n",
    "        i=str(i)\n",
    "        file = cv2.imread('C:\\\\Users\\\\priya\\\\Desktop\\\\Untitled Folder\\\\scan\\\\shape_'+i+'.jpg')\n",
    "        grey = cv2.cvtColor(file,cv2.COLOR_BGR2GRAY)\n",
    "        ret,thresh=cv2.threshold(grey,100,255,cv2.THRESH_BINARY)\n",
    "        contour,_ = cv2.findContours(thresh,cv2.RETR_TREE,cv2.CHAIN_APPROX_SIMPLE)\n",
    "        cv2.drawContours(file,contour,-1,(0,0,255),3)\n",
    "        for c in contour:\n",
    "            perimeter = cv2.arcLength(c,True)\n",
    "            approx = cv2.approxPolyDP(c,0.02*perimeter,True)\n",
    "        if len(approx)==3:\n",
    "            cv2.putText(file,\"Triangle\",(50,50),cv2.FONT_HERSHEY_DUPLEX,1,(255,100,0),2)\n",
    "        elif len(approx)==4:\n",
    "            cv2.putText(file,\"Rectangle\",(50,50),cv2.FONT_HERSHEY_DUPLEX,1,(255,100,0),2)\n",
    "        elif len(approx)==5:\n",
    "            cv2.putText(file,\"Pentagon\",(50,50),cv2.FONT_HERSHEY_DUPLEX,1,(255,100,0),2)\n",
    "        elif len(approx)==6:\n",
    "            cv2.putText(file,\"Hexagon\",(50,50),cv2.FONT_HERSHEY_DUPLEX,1,(255,100,0),2)\n",
    "        else:\n",
    "            cv2.putText(file,\"Circle\",(50,50),cv2.FONT_HERSHEY_DUPLEX,1,(255,100,0),2)\n",
    "        cv2.imshow(i,file)\n",
    "    cv2.waitKey(0)\n",
    "    cv2.destroyAllWindows()\n",
    "if __name__=='__main__':\n",
    "    main()"
   ]
  },
  {
   "cell_type": "code",
   "execution_count": null,
   "metadata": {},
   "outputs": [],
   "source": []
  }
 ],
 "metadata": {
  "kernelspec": {
   "display_name": "Python 3",
   "language": "python",
   "name": "python3"
  },
  "language_info": {
   "codemirror_mode": {
    "name": "ipython",
    "version": 3
   },
   "file_extension": ".py",
   "mimetype": "text/x-python",
   "name": "python",
   "nbconvert_exporter": "python",
   "pygments_lexer": "ipython3",
   "version": "3.7.6"
  }
 },
 "nbformat": 4,
 "nbformat_minor": 4
}
